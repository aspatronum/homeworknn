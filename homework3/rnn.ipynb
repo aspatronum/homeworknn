{
  "cells": [
    {
      "cell_type": "markdown",
      "metadata": {},
      "source": [
        "# LSTM模型实现IMDB影评情感识别\n"
      ]
    },
    {
      "cell_type": "markdown",
      "metadata": {},
      "source": [
        "\n",
        "\n",
        "1. **下载并解压 IMDB 数据集**（包含25,000条训练评论和25,000条测试评论）。\n",
        "2. **数据预处理**：清洗文本（去除 HTML 标签、标点符号等）、转小写，并进行分词（tokenization），准备训练集和测试集。\n",
        "3. **构建词汇表和序列**：基于训练集单词构建词汇表，设置最大序列长度，将影评文本转换为固定长度的数字序列（索引序列），并进行填充（padding）。\n",
        "4. **词向量嵌入**：使用词嵌入层将单词索引映射为稠密向量（可以选择使用预训练的 GloVe 向量，或随机初始化嵌入并在训练中学习）。\n",
        "5. **构建 LSTM 分类模型**：包括嵌入层、LSTM层（支持单向或双向）、线性输出层组成的模型。\n",
        "6. **训练模型**：包括 loss 计算（如 BCEWithLogitsLoss）、优化器（如 Adam）、训练可视化（loss/accuracy 曲线）。\n",
        "7. **模型评估**：在测试集上输出准确率。\n",
        "8. **模型保存与加载**：演示如何保存训练好的模型参数，并加载模型用于后续使用。\n"
      ]
    },
    {
      "cell_type": "markdown",
      "metadata": {},
      "source": [
        "接下来，我们将按照上述步骤逐步实现。\n"
      ]
    },
    {
      "cell_type": "markdown",
      "metadata": {},
      "source": [
        "## 1. 数据集下载和解压\n",
        "\n",
        "首先下载 IMDB 影评情感分析数据集并解压。数据集由斯坦福提供，包含50000条电影评论，其中25000条用于训练，25000条用于测试，评论分别标注为**positive**（正面）或**negative**（负面)。\n"
      ]
    },
    {
      "cell_type": "code",
      "execution_count": 1,
      "metadata": {},
      "outputs": [
        {
          "name": "stdout",
          "output_type": "stream",
          "text": [
            "Dataset archive already exists.\n",
            "Extracting dataset files...\n"
          ]
        },
        {
          "name": "stderr",
          "output_type": "stream",
          "text": [
            "/tmp/ipykernel_7378/3214773248.py:19: DeprecationWarning: Python 3.14 will, by default, filter extracted tar archives and reject files or modify their metadata. Use the filter argument to control this behavior.\n",
            "  tar.extractall()  # 解压出 aclImdb/ 目录\n"
          ]
        },
        {
          "name": "stdout",
          "output_type": "stream",
          "text": [
            "Extraction complete.\n",
            "Train subfolders: ['neg', 'urls_neg.txt', 'unsup', 'pos', 'urls_pos.txt', 'urls_unsup.txt', 'unsupBow.feat', 'labeledBow.feat']\n",
            "Test subfolders: ['neg', 'urls_neg.txt', 'pos', 'urls_pos.txt', 'labeledBow.feat']\n",
            "Number of training pos files: 12500\n",
            "Number of training neg files: 12500\n",
            "Number of test pos files: 12500\n",
            "Number of test neg files: 12500\n"
          ]
        }
      ],
      "source": [
        "import urllib.request\n",
        "import tarfile\n",
        "import os\n",
        "\n",
        "# 下载 IMDB 数据集压缩包\n",
        "url = \"https://ai.stanford.edu/~amaas/data/sentiment/aclImdb_v1.tar.gz\"\n",
        "filename = \"aclImdb_v1.tar.gz\"\n",
        "if not os.path.exists(filename):\n",
        "    print(\"Downloading dataset...\")\n",
        "    urllib.request.urlretrieve(url, filename)\n",
        "    print(\"Download complete.\")\n",
        "else:\n",
        "    print(\"Dataset archive already exists.\")\n",
        "\n",
        "# 解压缩 .tar.gz 文件\n",
        "if not os.path.exists(\"aclImdb\"):\n",
        "    print(\"Extracting dataset files...\")\n",
        "    with tarfile.open(filename, \"r:gz\") as tar:\n",
        "        tar.extractall()  # 解压出 aclImdb/ 目录\n",
        "    print(\"Extraction complete.\")\n",
        "else:\n",
        "    print(\"Dataset directory already exists.\")\n",
        "\n",
        "# 列出训练集和测试集目录内容\n",
        "train_dir = \"aclImdb/train\"\n",
        "test_dir = \"aclImdb/test\"\n",
        "print(\"Train subfolders:\", os.listdir(train_dir))\n",
        "print(\"Test subfolders:\", os.listdir(test_dir))\n",
        "print(\"Number of training pos files:\", len(os.listdir(os.path.join(train_dir, \"pos\"))))\n",
        "print(\"Number of training neg files:\", len(os.listdir(os.path.join(train_dir, \"neg\"))))\n",
        "print(\"Number of test pos files:\", len(os.listdir(os.path.join(test_dir, \"pos\"))))\n",
        "print(\"Number of test neg files:\", len(os.listdir(os.path.join(test_dir, \"neg\"))))\n"
      ]
    },
    {
      "cell_type": "markdown",
      "metadata": {},
      "source": [
        "运行上述代码后，看到输出下载/解压完成，以及训练集正面、负面评论各12500条，测试集正面、负面评论各12500条"
      ]
    },
    {
      "cell_type": "markdown",
      "metadata": {},
      "source": [
        "## 2. 数据预处理（清洗文本 & 分词）\n",
        "\n",
        "原始的 IMDB 评论文本包含一些**HTML 标签**（例如 `<br />` 用于换行）以及各种标点符号、大小写混杂等。为了简化模型的学习，我们需要对文本进行清洗和标准化：\n",
        "\n",
        "- **去除 HTML 标签**：如 `<br />` 等。\n",
        "- **移除标点符号**：将标点用空格替换或删除，仅保留字母和数字（以便后续分词）。\n",
        "- **转换为小写**：将所有字母转成小写，保证一致性。\n",
        "\n",
        "完成清洗后，我们再对评论进行**分词**（Tokenization），也就是将句子拆分为单词序列。简单起见，我们可以按空格拆分单词。随后，我们会将处理后的文本划分为训练集和测试集对应的数据结构。\n"
      ]
    },
    {
      "cell_type": "code",
      "execution_count": 2,
      "metadata": {},
      "outputs": [
        {
          "name": "stdout",
          "output_type": "stream",
          "text": [
            "原始文本: I <br /> loved this Movie!!! It's great, though a bit long.\n",
            "清洗后: i  loved this movie its great though a bit long\n"
          ]
        }
      ],
      "source": [
        "import re\n",
        "\n",
        "def clean_text(text):\n",
        "    \"\"\"清洗文本：去除HTML标签和标点，并转换为小写。\"\"\"\n",
        "    # 去掉 HTML 标签\n",
        "    text = re.sub(r\"<.*?>\", \"\", text)\n",
        "    # 去掉标点符号（只保留字母、数字和空格）\n",
        "    text = re.sub(r\"[^a-zA-Z0-9\\s]\", \"\", text)\n",
        "    # 转换为小写\n",
        "    text = text.lower()\n",
        "    return text\n",
        "\n",
        "# 测试清洗函数\n",
        "sample_text = \"I <br /> loved this Movie!!! It's great, though a bit long.\"\n",
        "print(\"原始文本:\", sample_text)\n",
        "print(\"清洗后:\", clean_text(sample_text))\n"
      ]
    },
    {
      "cell_type": "markdown",
      "metadata": {},
      "source": [
        "接下来，我读取训练和测试集中的所有评论文件，应用清洗函数并进行分词。由于数据集已经按文件夹区分正负面，我们可以直接根据所在目录来赋予标签：`pos`目录下的评论标记为1（正面），`neg`目录下标记为0（负面）。\n"
      ]
    },
    {
      "cell_type": "code",
      "execution_count": 3,
      "metadata": {},
      "outputs": [
        {
          "name": "stdout",
          "output_type": "stream",
          "text": [
            "训练集评论数: 25000\n",
            "测试集评论数: 25000\n",
            "第1条训练评论分词结果: ['german', 'filmmaker', 'ulli', 'lommel', 'has', 'managed', 'a', 'task', 'many', 'horror', 'fans', 'thought', 'was', 'impossible', 'hes', 'unseated', 'fellow', 'teuton', 'uwe', 'boll'] ...\n",
            "对应标签: 0\n"
          ]
        }
      ],
      "source": [
        "import os\n",
        "\n",
        "# 准备容器\n",
        "train_tokens = []   # 存储训练集每条评论的分词结果\n",
        "train_labels = []   # 存储训练集每条评论的标签 (1或0)\n",
        "test_tokens = []\n",
        "test_labels = []\n",
        "\n",
        "# 处理训练集\n",
        "for label in [\"pos\", \"neg\"]:\n",
        "    folder = os.path.join(train_dir, label)\n",
        "    for filename in os.listdir(folder):\n",
        "        # 读取评论文本\n",
        "        with open(os.path.join(folder, filename), \"r\", encoding=\"utf-8\") as f:\n",
        "            text = f.read().strip()\n",
        "        # 清洗 + 分词\n",
        "        text = clean_text(text)\n",
        "        tokens = text.split()  # 按空格分词\n",
        "        # 保存结果\n",
        "        train_tokens.append(tokens)\n",
        "        train_labels.append(1 if label == \"pos\" else 0)\n",
        "\n",
        "# 处理测试集\n",
        "for label in [\"pos\", \"neg\"]:\n",
        "    folder = os.path.join(test_dir, label)\n",
        "    for filename in os.listdir(folder):\n",
        "        with open(os.path.join(folder, filename), \"r\", encoding=\"utf-8\") as f:\n",
        "            text = f.read().strip()\n",
        "        text = clean_text(text)\n",
        "        tokens = text.split()\n",
        "        test_tokens.append(tokens)\n",
        "        test_labels.append(1 if label == \"pos\" else 0)\n",
        "\n",
        "# 打乱训练集数据顺序（测试集无需打乱）\n",
        "# 以防止所有正面评论和负面评论分别集中\n",
        "import random\n",
        "train_data = list(zip(train_tokens, train_labels))\n",
        "random.shuffle(train_data)\n",
        "train_tokens, train_labels = zip(*train_data)  # 打乱后拆分\n",
        "train_tokens = list(train_tokens)\n",
        "train_labels = list(train_labels)\n",
        "\n",
        "# 简单检查处理结果\n",
        "print(\"训练集评论数:\", len(train_tokens))\n",
        "print(\"测试集评论数:\", len(test_tokens))\n",
        "print(\"第1条训练评论分词结果:\", train_tokens[0][:20], \"...\")  # 打印前20个词作为示例\n",
        "print(\"对应标签:\", train_labels[0])\n"
      ]
    },
    {
      "cell_type": "markdown",
      "metadata": {},
      "source": [
        "## 3. 构建词汇表和词汇预处理\n",
        "\n",
        "把word映射成索引\n",
        "\n",
        "具体步骤：\n",
        "- **统计词频**：计算训练集中所有单词的出现频率。\n",
        "- **限定词汇大小**：设定一个最大词汇大小（这里设置为10000）以控制模型规模和过滤罕见词。对于不在词汇表中的词用特殊标记 `<UNK>` 表示。\n",
        "- **建立映射**：将词汇表中每个单词分配一个索引。保留索引0给**填充符 `<PAD>`**，索引1给**未知词 `<UNK>`**，从索引2开始给频率高的单词分配索引。\n",
        "- **文本序列数字化**：将每条评论的单词序列替换为对应的索引序列。\n",
        "- **序列截断/填充**：由于不同评论的长度不同，需要统一序列长度。设定一个**最大序列长度**（例如500）。对于超过该长度的序列予以截断，只保留前面的部分；对于短于该长度的序列，用`<PAD>`（索引0）填充至固定长度。\n"
      ]
    },
    {
      "cell_type": "code",
      "execution_count": 4,
      "metadata": {},
      "outputs": [
        {
          "name": "stdout",
          "output_type": "stream",
          "text": [
            "训练集中的不同单词数（未经限制）: 141995\n",
            "词频最高的5个单词: [('the', 328025), ('and', 161555), ('a', 161294), ('of', 145155), ('to', 134814)]\n",
            "词汇表大小: 10002\n",
            "训练序列数组形状: (25000, 500)\n",
            "测试序列数组形状: (25000, 500)\n",
            "第一条训练序列 (索引形式): [1126 1549    1    1   43 1238    4 2773  105  194  443  196   13 1133\n",
            "  227    1 1433    1 4099 3472]\n",
            "对应标签: 0\n"
          ]
        }
      ],
      "source": [
        "from collections import Counter\n",
        "import numpy as np\n",
        "\n",
        "# 统计训练集词频\n",
        "counter = Counter()\n",
        "for tokens in train_tokens:\n",
        "    counter.update(tokens)\n",
        "print(\"训练集中的不同单词数（未经限制）:\", len(counter))\n",
        "\n",
        "# 限定词汇表大小\n",
        "max_vocab_size = 10000  # 我们只保留最常见的10000个单词\n",
        "most_common = counter.most_common(max_vocab_size)\n",
        "print(f\"词频最高的5个单词: {most_common[:5]}\")\n",
        "\n",
        "# 建立 单词->索引 映射\n",
        "word2idx = {\"<PAD>\": 0, \"<UNK>\": 1}\n",
        "for idx, (word, freq) in enumerate(most_common, start=2):\n",
        "    word2idx[word] = idx\n",
        "vocab_size = len(word2idx)\n",
        "print(\"词汇表大小:\", vocab_size)\n",
        "\n",
        "# 将训练集和测试集的 token 序列转换为索引序列\n",
        "train_sequences = []\n",
        "for tokens in train_tokens:\n",
        "    seq = [word2idx.get(word, 1) for word in tokens]  # 不在词表的词用<UNK>(索引1)替代\n",
        "    train_sequences.append(seq)\n",
        "test_sequences = []\n",
        "for tokens in test_tokens:\n",
        "    seq = [word2idx.get(word, 1) for word in tokens]\n",
        "    test_sequences.append(seq)\n",
        "\n",
        "# 设置最大序列长度并对序列进行填充/截断\n",
        "MAX_LEN = 500  # 最大序列长度\n",
        "def pad_or_truncate(seq, max_len):\n",
        "    if len(seq) >= max_len:\n",
        "        return seq[:max_len]    # 截断到最大长度\n",
        "    else:\n",
        "        return seq + [0] * (max_len - len(seq))  # 不足则填充0（<PAD>）\n",
        "\n",
        "X_train_seq = [pad_or_truncate(seq, MAX_LEN) for seq in train_sequences]\n",
        "X_test_seq  = [pad_or_truncate(seq, MAX_LEN) for seq in test_sequences]\n",
        "\n",
        "# 转换为numpy数组以便构建张量\n",
        "X_train_seq = np.array(X_train_seq)\n",
        "X_test_seq = np.array(X_test_seq)\n",
        "y_train = np.array(train_labels)\n",
        "y_test = np.array(test_labels)\n",
        "\n",
        "print(\"训练序列数组形状:\", X_train_seq.shape)\n",
        "print(\"测试序列数组形状:\", X_test_seq.shape)\n",
        "print(\"第一条训练序列 (索引形式):\", X_train_seq[0][:20])\n",
        "print(\"对应标签:\", y_train[0])\n"
      ]
    },
    {
      "cell_type": "markdown",
      "metadata": {},
      "source": [
        "接下来我们将 numpy 数组转换为 PyTorch 张量，并使用 `DataLoader` 创建批迭代器。\n"
      ]
    },
    {
      "cell_type": "code",
      "execution_count": 5,
      "metadata": {},
      "outputs": [
        {
          "name": "stdout",
          "output_type": "stream",
          "text": [
            "训练集张量维度: torch.Size([25000, 500]) torch.Size([25000])\n",
            "测试集张量维度: torch.Size([25000, 500]) torch.Size([25000])\n",
            "一个批次的X维度: torch.Size([64, 500]) 一个批次的y维度: torch.Size([64])\n"
          ]
        }
      ],
      "source": [
        "import torch\n",
        "from torch.utils.data import TensorDataset, DataLoader\n",
        "\n",
        "# 将数据转换为PyTorch张量\n",
        "X_train_tensor = torch.tensor(X_train_seq, dtype=torch.long)\n",
        "y_train_tensor = torch.tensor(y_train, dtype=torch.float32)\n",
        "X_test_tensor = torch.tensor(X_test_seq, dtype=torch.long)\n",
        "y_test_tensor = torch.tensor(y_test, dtype=torch.float32)\n",
        "\n",
        "# 构建数据集TensorDataset和数据加载器DataLoader\n",
        "batch_size = 64\n",
        "train_dataset = TensorDataset(X_train_tensor, y_train_tensor)\n",
        "test_dataset = TensorDataset(X_test_tensor, y_test_tensor)\n",
        "train_loader = DataLoader(train_dataset, batch_size=batch_size, shuffle=True)\n",
        "test_loader = DataLoader(test_dataset, batch_size=batch_size, shuffle=False)\n",
        "\n",
        "print(\"训练集张量维度:\", X_train_tensor.shape, y_train_tensor.shape)\n",
        "print(\"测试集张量维度:\", X_test_tensor.shape, y_test_tensor.shape)\n",
        "batch_x, batch_y = next(iter(train_loader))\n",
        "print(\"一个批次的X维度:\", batch_x.shape, \"一个批次的y维度:\", batch_y.shape)\n"
      ]
    },
    {
      "cell_type": "markdown",
      "metadata": {},
      "source": [
        "## 4. 构建词向量嵌入\n",
        "\n",
        "在将单词索引输入LSTM之前，需要将每个索引转换为一个实数向量表示，即**词嵌入**（Word Embedding）。\n"
      ]
    },
    {
      "cell_type": "markdown",
      "metadata": {},
      "source": [
        "采用**随机初始化嵌入**以简化实现。使用PyTorch的`nn.Embedding`来创建嵌入层，嵌入矩阵维度设为 `embedding_dim = 100`。"
      ]
    },
    {
      "cell_type": "markdown",
      "metadata": {},
      "source": [
        "## 5. 构建 LSTM 分类模型\n",
        "\n",
        "我们现在定义一个基于 LSTM 的二分类模型。模型的结构如下：\n",
        "\n",
        "- **Embedding嵌入层**: 输入为单词索引序列，输出对应的词向量序列。这里选择嵌入维度 `embedding_dim = 100`。在嵌入层指定 `padding_idx=0` 来确保`<PAD>`的嵌入向量恒为0。\n",
        "- **LSTM层**: 使用单向LSTM（`bidirectional=False`）\n",
        "- **全连接输出层**: 输出层神经元个数为1。输出的实数计算二元交叉熵损失。\n"
      ]
    },
    {
      "cell_type": "code",
      "execution_count": 6,
      "metadata": {},
      "outputs": [],
      "source": [
        "import torch.nn as nn\n",
        "\n",
        "class LSTMClassifier(nn.Module):\n",
        "    def __init__(self, vocab_size, embed_dim, hidden_dim, num_layers=1, bidirectional=False):\n",
        "        super(LSTMClassifier, self).__init__()\n",
        "        self.embedding = nn.Embedding(vocab_size, embed_dim, padding_idx=0)\n",
        "        self.lstm = nn.LSTM(embed_dim, hidden_dim, num_layers=num_layers, \n",
        "                             batch_first=True, bidirectional=bidirectional)\n",
        "        self.bidirectional = bidirectional\n",
        "        # 根据是否双向决定全连接层输入维度\n",
        "        if bidirectional:\n",
        "            self.fc = nn.Linear(hidden_dim * 2, 1)\n",
        "        else:\n",
        "            self.fc = nn.Linear(hidden_dim, 1)\n",
        "    \n",
        "    def forward(self, x):\n",
        "        # x: [batch_size, seq_len] 单词索引序列\n",
        "        emb = self.embedding(x)               # emb: [batch_size, seq_len, embed_dim]\n",
        "        lstm_out, (h_n, c_n) = self.lstm(emb) # h_n: [num_layers*num_directions, batch_size, hidden_dim]\n",
        "        if self.bidirectional:\n",
        "            # 双向LSTM: 前向最后一层隐状态在 h_n[-2], 后向最后一层隐状态在 h_n[-1]\n",
        "            out = torch.cat((h_n[-2], h_n[-1]), dim=1)  # 拼接前向和后向隐状态 => [batch_size, hidden_dim*2]\n",
        "        else:\n",
        "            # 单向LSTM: 最后一层隐状态即 h_n[-1]\n",
        "            out = h_n[-1]  # [batch_size, hidden_dim]\n",
        "        out = self.fc(out)           # 全连接层: [batch_size, 1]\n",
        "        return out.squeeze(1)        # 输出展平成 [batch_size] 一维向量\n"
      ]
    },
    {
      "cell_type": "code",
      "execution_count": 7,
      "metadata": {},
      "outputs": [
        {
          "name": "stdout",
          "output_type": "stream",
          "text": [
            "LSTMClassifier(\n",
            "  (embedding): Embedding(10002, 100, padding_idx=0)\n",
            "  (lstm): LSTM(100, 128, batch_first=True)\n",
            "  (fc): Linear(in_features=128, out_features=1, bias=True)\n",
            ")\n"
          ]
        }
      ],
      "source": [
        "# 定义超参数\n",
        "vocab_size = len(word2idx)\n",
        "embed_dim = 100\n",
        "hidden_dim = 128\n",
        "bidirectional = False  # 若想使用双向LSTM可设置为 True\n",
        "\n",
        "# 实例化模型\n",
        "model = LSTMClassifier(vocab_size, embed_dim, hidden_dim, bidirectional=bidirectional)\n",
        "print(model)\n"
      ]
    },
    {
      "cell_type": "code",
      "execution_count": 8,
      "metadata": {},
      "outputs": [
        {
          "name": "stdout",
          "output_type": "stream",
          "text": [
            "Using device: cuda\n"
          ]
        }
      ],
      "source": [
        "# GPU训练\n",
        "device = torch.device(\"cuda\" if torch.cuda.is_available() else \"cpu\")\n",
        "print(\"Using device:\", device)\n",
        "model = model.to(device)\n"
      ]
    },
    {
      "cell_type": "markdown",
      "metadata": {},
      "source": [
        "## 6. 模型训练\n",
        "\n",
        "\n",
        "- 损失函数：`BCEWithLogitsLoss`。\n",
        "- 优化器：`optim.Adam`，学习率设为0.003。\n",
        "- 批量大小：64。\n",
        "- 训练轮数：这里设置为20轮。\n"
      ]
    },
    {
      "cell_type": "code",
      "execution_count": 12,
      "metadata": {},
      "outputs": [
        {
          "name": "stdout",
          "output_type": "stream",
          "text": [
            "Epoch 1: Train Loss = 0.6442, Test Accuracy = 0.5002\n",
            "Epoch 2: Train Loss = 0.6414, Test Accuracy = 0.4988\n",
            "Epoch 3: Train Loss = 0.6447, Test Accuracy = 0.4984\n",
            "Epoch 4: Train Loss = 0.6406, Test Accuracy = 0.5040\n",
            "Epoch 5: Train Loss = 0.6399, Test Accuracy = 0.5043\n",
            "Epoch 6: Train Loss = 0.6157, Test Accuracy = 0.6710\n",
            "Epoch 7: Train Loss = 0.5098, Test Accuracy = 0.7811\n",
            "Epoch 8: Train Loss = 0.3603, Test Accuracy = 0.8359\n",
            "Epoch 9: Train Loss = 0.2562, Test Accuracy = 0.8442\n",
            "Epoch 10: Train Loss = 0.1933, Test Accuracy = 0.8452\n",
            "Epoch 11: Train Loss = 0.1461, Test Accuracy = 0.8444\n",
            "Epoch 12: Train Loss = 0.1196, Test Accuracy = 0.8494\n",
            "Epoch 13: Train Loss = 0.0969, Test Accuracy = 0.8505\n",
            "Epoch 14: Train Loss = 0.0846, Test Accuracy = 0.8472\n",
            "Epoch 15: Train Loss = 0.0862, Test Accuracy = 0.8457\n",
            "Epoch 16: Train Loss = 0.0836, Test Accuracy = 0.8476\n",
            "Epoch 17: Train Loss = 0.0811, Test Accuracy = 0.8473\n",
            "Epoch 18: Train Loss = 0.0696, Test Accuracy = 0.8461\n",
            "Epoch 19: Train Loss = 0.0650, Test Accuracy = 0.8484\n",
            "Epoch 20: Train Loss = 0.0616, Test Accuracy = 0.8497\n"
          ]
        }
      ],
      "source": [
        "import torch.optim as optim\n",
        "\n",
        "loss_fn = nn.BCEWithLogitsLoss()\n",
        "optimizer = optim.Adam(model.parameters(), lr=0.003)\n",
        "\n",
        "num_epochs = 20\n",
        "train_losses = []\n",
        "test_accuracies = []\n",
        "\n",
        "for epoch in range(1, num_epochs+1):\n",
        "    model.train()  # 切换模型到训练模式\n",
        "    total_loss = 0.0\n",
        "    for X_batch, y_batch in train_loader:\n",
        "        X_batch = X_batch.to(device)\n",
        "        y_batch = y_batch.to(device)\n",
        "        optimizer.zero_grad()\n",
        "        # 前向传播\n",
        "        outputs = model(X_batch)\n",
        "        # 计算损失（注意：BCEWithLogitsLoss期望target为float）\n",
        "        loss = loss_fn(outputs, y_batch)\n",
        "        # 反向传播和参数更新\n",
        "        loss.backward()\n",
        "        optimizer.step()\n",
        "        total_loss += loss.item() * X_batch.size(0)  # 累计损失总和（按样本加权）\n",
        "    # 计算平均损失\n",
        "    avg_loss = total_loss / len(train_loader.dataset)\n",
        "    train_losses.append(avg_loss)\n",
        "    \n",
        "    # 在测试集上评估\n",
        "    model.eval()  # 切换模型到评估模式\n",
        "    correct = 0\n",
        "    total = 0\n",
        "    with torch.no_grad():\n",
        "        for X_batch, y_batch in test_loader:\n",
        "            X_batch = X_batch.to(device)\n",
        "            y_batch = y_batch.to(device)\n",
        "            outputs = model(X_batch)\n",
        "            # 使用 sigmoid 将输出映射到 [0,1] 概率，然后以0.5为阈值判断正负面\n",
        "            probs = torch.sigmoid(outputs)\n",
        "            preds = (probs >= 0.5).float()  # 概率>=0.5则预测为1，否则为0\n",
        "            # 统计预测正确的数量\n",
        "            correct += (preds == y_batch).sum().item()\n",
        "            total += y_batch.size(0)\n",
        "    acc = correct / total\n",
        "    test_accuracies.append(acc)\n",
        "    \n",
        "    print(f\"Epoch {epoch}: Train Loss = {avg_loss:.4f}, Test Accuracy = {acc:.4f}\")\n"
      ]
    },
    {
      "cell_type": "markdown",
      "metadata": {},
      "source": [
        "可见随着训练进行，训练集上的平均损失下降，测试集准确率上升，表明模型在逐渐学习区分影评情感。\n",
        "\n",
        "## 7. 模型评估\n",
        "\n",
        "**训练可视化**：使用记录的`train_losses`和`test_accuracies`绘制曲线，直观了解训练进展：\n"
      ]
    },
    {
      "cell_type": "code",
      "execution_count": 13,
      "metadata": {},
      "outputs": [
        {
          "data": {
            "image/png": "[encoded data removed]",
            "text/plain": [
              "<Figure size 800x400 with 1 Axes>"
            ]
          },
          "metadata": {},
          "output_type": "display_data"
        }
      ],
      "source": [
        "import matplotlib.pyplot as plt\n",
        "\n",
        "epochs = range(1, num_epochs+1)\n",
        "plt.figure(figsize=(8,4))\n",
        "plt.plot(epochs, train_losses, '-o', label='Training Loss')\n",
        "plt.plot(epochs, test_accuracies, '-o', label='Test Accuracy')\n",
        "plt.title('Training Loss and Test Accuracy')\n",
        "plt.xlabel('Epoch')\n",
        "plt.legend()\n",
        "plt.show()\n"
      ]
    },
    {
      "cell_type": "code",
      "execution_count": 14,
      "metadata": {},
      "outputs": [
        {
          "name": "stdout",
          "output_type": "stream",
          "text": [
            "在测试集上的准确率: 0.8497\n"
          ]
        }
      ],
      "source": [
        "model.eval()  # 确保模型在评估模式\n",
        "correct = 0\n",
        "total = 0\n",
        "with torch.no_grad():\n",
        "    for X_batch, y_batch in test_loader:\n",
        "        X_batch = X_batch.to(device)\n",
        "        y_batch = y_batch.to(device)\n",
        "        outputs = model(X_batch)\n",
        "        preds = (torch.sigmoid(outputs) >= 0.5).float()\n",
        "        correct += (preds == y_batch).sum().item()\n",
        "        total += y_batch.size(0)\n",
        "test_accuracy = correct / total\n",
        "print(f\"在测试集上的准确率: {test_accuracy:.4f}\")\n"
      ]
    }
  ],
  "metadata": {
    "kernelspec": {
      "display_name": "PyTorch",
      "language": "python",
      "name": "python3"
    },
    "language_info": {
      "codemirror_mode": {
        "name": "ipython",
        "version": 3
      },
      "file_extension": ".py",
      "mimetype": "text/x-python",
      "name": "python",
      "nbconvert_exporter": "python",
      "pygments_lexer": "ipython3",
      "version": "3.12.9"
    }
  },
  "nbformat": 4,
  "nbformat_minor": 2
}
