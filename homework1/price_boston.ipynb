{
 "cells": [
  {
   "cell_type": "markdown",
   "metadata": {},
   "source": [
    "# 波士顿房价预测-作业1\n",
    "\n",
    "本次作业运用神经网络构建一个简单的回归预测模型，对波士顿房价进行预测。报告内容包括数据预处理、特征降维、模型构建、训练、评估以及模型保存。"
   ]
  },
  {
   "cell_type": "code",
   "execution_count": 1,
   "metadata": {},
   "outputs": [],
   "source": [
    "# 导入所需的库\n",
    "import pandas as pd\n",
    "from sklearn.preprocessing import StandardScaler\n",
    "from sklearn.decomposition import PCA\n",
    "import numpy as np\n",
    "import torch\n",
    "import torch.nn as nn\n",
    "from torch.utils.data import TensorDataset, DataLoader\n",
    "import logging\n",
    "import matplotlib.pyplot as plt"
   ]
  },
  {
   "cell_type": "markdown",
   "metadata": {},
   "source": [
    "## 一、数据的加载和预处理\n",
    "\n",
    "首先从xlsx文件中导入数据，然后进行预处理：删除缺失值与重复值，然后将前12列作为特征、`MEDV`作为目标变量。\n",
    "并对数据进行划分、标准化及 PCA 降维。"
   ]
  },
  {
   "cell_type": "code",
   "execution_count": 2,
   "metadata": {},
   "outputs": [
    {
     "name": "stderr",
     "output_type": "stream",
     "text": [
      "2025-04-07 17:16:04,629 - INFO - 原始特征数: 12\n",
      "2025-04-07 17:16:04,629 - INFO - 经过PCA降维后的特征数: 7\n"
     ]
    }
   ],
   "source": [
    "# 设置日志记录\n",
    "logging.basicConfig(level=logging.INFO,force=True,\n",
    "                            format='%(asctime)s - %(levelname)s - %(message)s',\n",
    "                            handlers=[\n",
    "                                logging.FileHandler(\"training.log\"),\n",
    "                                logging.StreamHandler()\n",
    "                            ])\n",
    "# 1.导入数据\n",
    "data=pd.read_excel(\"BostonHousingData.xlsx\")\n",
    "# 2.数据预处理\n",
    "data=data.dropna() # 删除缺失值\n",
    "data=data.drop_duplicates() # 删除重复值\n",
    "# 前12列作为特征，MEDV作为目标变量\n",
    "X=data.iloc[:,:12].values\n",
    "y=data['MEDV'].values\n",
    "# 3.数据划分：前450条训练，后50条测试\n",
    "X_train=X[:450]\n",
    "y_train=y[:450]\n",
    "X_test=X[-50:]\n",
    "y_test=y[-50:]\n",
    "# 4.数据标准化和PCA降维\n",
    "scaler=StandardScaler()\n",
    "X_train=scaler.fit_transform(X_train)\n",
    "X_test=scaler.transform(X_test)\n",
    "pca=PCA(n_components=0.9) # 保留90%的方差\n",
    "X_train=pca.fit_transform(X_train)\n",
    "X_test=pca.transform(X_test)\n",
    "logging.info(f\"原始特征数: {X.shape[1]}\")\n",
    "logging.info(f\"经过PCA降维后的特征数: {X_train.shape[1]}\")"
   ]
  },
  {
   "cell_type": "markdown",
   "metadata": {},
   "source": [
    "## 二、数据转换与数据加载器\n",
    "\n",
    "将pandas导入的数据转换为PyTorch的tensor，并创建数据加载器以便于模型训练。"
   ]
  },
  {
   "cell_type": "code",
   "execution_count": 3,
   "metadata": {},
   "outputs": [],
   "source": [
    "# 5.数据转换为numpy数组\n",
    "X_train=np.array(X_train)\n",
    "y_train=np.array(y_train)\n",
    "X_test=np.array(X_test)\n",
    "y_test=np.array(y_test)\n",
    "# 数据转换为PyTorch的tensor，并调整目标维度为二维张量\n",
    "X_train_tensor=torch.tensor(X_train, dtype=torch.float32)\n",
    "y_train_tensor=torch.tensor(y_train, dtype=torch.float32).view(-1, 1)\n",
    "X_test_tensor=torch.tensor(X_test, dtype=torch.float32)\n",
    "y_test_tensor=torch.tensor(y_test, dtype=torch.float32).view(-1, 1)\n",
    "# 6.创建训练数据集与数据加载器\n",
    "train_dataset=TensorDataset(X_train_tensor, y_train_tensor)\n",
    "train_loader=DataLoader(train_dataset, batch_size=32, shuffle=True)"
   ]
  },
  {
   "cell_type": "markdown",
   "metadata": {},
   "source": [
    "## 三、构建神经网络模型\n",
    "\n",
    "构建一个简单的回归神经网络模型，包含两个隐藏层，使用ReLU激活函数。"
   ]
  },
  {
   "cell_type": "code",
   "execution_count": 4,
   "metadata": {},
   "outputs": [],
   "source": [
    "# 7.定义神经网络模型\n",
    "class RegressionNN(nn.Module):\n",
    "    def __init__(self, input_dim):\n",
    "        super(RegressionNN, self).__init__()\n",
    "        self.model = nn.Sequential(\n",
    "            nn.Linear(input_dim, 64),\n",
    "            nn.ReLU(),\n",
    "            nn.Linear(64, 32),\n",
    "            nn.ReLU(),\n",
    "            nn.Linear(32, 1)\n",
    "        )\n",
    "        \n",
    "    def forward(self, x):\n",
    "        return self.model(x)\n",
    "input_dim = X_train_tensor.shape[1]\n",
    "model = RegressionNN(input_dim)\n",
    "# 8.定义损失函数与优化器\n",
    "criterion = nn.MSELoss()\n",
    "optimizer = torch.optim.Adam(model.parameters(), lr=0.001)"
   ]
  },
  {
   "cell_type": "markdown",
   "metadata": {},
   "source": [
    "## 四、模型训练过程\n",
    "\n",
    "训练模型150个周期，并在每10个周期输出一次当前的损失值。训练完成后，最终模型被保存在 `boston_model.pth` 文件中，可用于后续预测任务。"
   ]
  },
  {
   "cell_type": "code",
   "execution_count": 5,
   "metadata": {},
   "outputs": [
    {
     "name": "stderr",
     "output_type": "stream",
     "text": [
      "2025-04-07 17:16:05,214 - INFO - Epoch [10/280], Loss: 88.9619\n",
      "2025-04-07 17:16:05,275 - INFO - Epoch [20/280], Loss: 35.9682\n",
      "2025-04-07 17:16:05,345 - INFO - Epoch [30/280], Loss: 28.8423\n",
      "2025-04-07 17:16:05,410 - INFO - Epoch [40/280], Loss: 29.5891\n",
      "2025-04-07 17:16:05,470 - INFO - Epoch [50/280], Loss: 2.6788\n",
      "2025-04-07 17:16:05,531 - INFO - Epoch [60/280], Loss: 3.3879\n",
      "2025-04-07 17:16:05,591 - INFO - Epoch [70/280], Loss: 17.6255\n",
      "2025-04-07 17:16:05,651 - INFO - Epoch [80/280], Loss: 12.7631\n",
      "2025-04-07 17:16:05,711 - INFO - Epoch [90/280], Loss: 0.2420\n",
      "2025-04-07 17:16:05,772 - INFO - Epoch [100/280], Loss: 7.4494\n",
      "2025-04-07 17:16:05,832 - INFO - Epoch [110/280], Loss: 48.1399\n",
      "2025-04-07 17:16:05,892 - INFO - Epoch [120/280], Loss: 12.5070\n",
      "2025-04-07 17:16:05,953 - INFO - Epoch [130/280], Loss: 27.0585\n",
      "2025-04-07 17:16:06,013 - INFO - Epoch [140/280], Loss: 4.2176\n",
      "2025-04-07 17:16:06,074 - INFO - Epoch [150/280], Loss: 26.0100\n",
      "2025-04-07 17:16:06,134 - INFO - Epoch [160/280], Loss: 11.1479\n",
      "2025-04-07 17:16:06,194 - INFO - Epoch [170/280], Loss: 1.4654\n",
      "2025-04-07 17:16:06,254 - INFO - Epoch [180/280], Loss: 7.9757\n",
      "2025-04-07 17:16:06,315 - INFO - Epoch [190/280], Loss: 0.0798\n",
      "2025-04-07 17:16:06,375 - INFO - Epoch [200/280], Loss: 9.0935\n",
      "2025-04-07 17:16:06,435 - INFO - Epoch [210/280], Loss: 5.6965\n",
      "2025-04-07 17:16:06,496 - INFO - Epoch [220/280], Loss: 5.5981\n",
      "2025-04-07 17:16:06,556 - INFO - Epoch [230/280], Loss: 1.2474\n",
      "2025-04-07 17:16:06,616 - INFO - Epoch [240/280], Loss: 71.8623\n",
      "2025-04-07 17:16:06,676 - INFO - Epoch [250/280], Loss: 8.2747\n",
      "2025-04-07 17:16:06,736 - INFO - Epoch [260/280], Loss: 0.3512\n",
      "2025-04-07 17:16:06,796 - INFO - Epoch [270/280], Loss: 46.0840\n",
      "2025-04-07 17:16:06,857 - INFO - Epoch [280/280], Loss: 1.4866\n",
      "2025-04-07 17:16:06,857 - INFO - 模型已保存为 boston_model.pth\n"
     ]
    }
   ],
   "source": [
    "# 9.训练模型\n",
    "num_epochs = 280\n",
    "train_losses = []\n",
    "for epoch in range(num_epochs):\n",
    "    model.train()\n",
    "    epoch_loss = 0.0\n",
    "    for i, (inputs, labels) in enumerate(train_loader):\n",
    "        optimizer.zero_grad()\n",
    "        outputs = model(inputs)\n",
    "        loss = criterion(outputs, labels)\n",
    "        loss.backward()\n",
    "        optimizer.step()\n",
    "        epoch_loss += loss.item()\n",
    "    train_losses.append(epoch_loss / len(train_loader))\n",
    "    if (epoch+1) % 10 == 0:\n",
    "        logging.info(f'Epoch [{epoch+1}/{num_epochs}], Loss: {loss.item():.4f}')\n",
    "# 保存模型\n",
    "torch.save(model.state_dict(), 'boston_model.pth')\n",
    "logging.info(\"模型已保存为 boston_model.pth\")"
   ]
  },
  {
   "cell_type": "markdown",
   "metadata": {},
   "source": [
    "## 五、模型评估\n",
    "\n",
    "加载保存的模型，并在测试集上评估模型表现，输出测试集的损失值。"
   ]
  },
  {
   "cell_type": "code",
   "execution_count": 6,
   "metadata": {},
   "outputs": [
    {
     "data": {
      "image/png": "[encoded data removed]",
      "text/plain": [
       "<Figure size 800x600 with 1 Axes>"
      ]
     },
     "metadata": {},
     "output_type": "display_data"
    },
    {
     "name": "stderr",
     "output_type": "stream",
     "text": [
      "2025-04-07 17:16:06,915 - INFO - Test Loss: 17.2874\n"
     ]
    }
   ],
   "source": [
    "# 可视化训练过程\n",
    "plt.figure(figsize=(8, 6))\n",
    "plt.plot(range(1, num_epochs + 1), train_losses, label='Training Loss')\n",
    "plt.xlabel('Epoch')\n",
    "plt.ylabel('Loss')\n",
    "plt.legend()\n",
    "plt.title('Training Loss Curve')\n",
    "plt.grid(True)\n",
    "plt.show()\n",
    "\n",
    "# 加载模型\n",
    "model.load_state_dict(torch.load('boston_model.pth'))    \n",
    "\n",
    "# 10.在测试集上评估模型\n",
    "model.eval()\n",
    "with torch.no_grad():\n",
    "    test_outputs = model(X_test_tensor)\n",
    "    test_loss = criterion(test_outputs, y_test_tensor)\n",
    "    logging.info(f'Test Loss: {test_loss.item():.4f}')"
   ]
  }
 ],
 "metadata": {
  "kernelspec": {
   "display_name": "PyTorch",
   "language": "python",
   "name": "python3"
  },
  "language_info": {
   "codemirror_mode": {
    "name": "ipython",
    "version": 3
   },
   "file_extension": ".py",
   "mimetype": "text/x-python",
   "name": "python",
   "nbconvert_exporter": "python",
   "pygments_lexer": "ipython3",
   "version": "3.12.9"
  }
 },
 "nbformat": 4,
 "nbformat_minor": 2
}
