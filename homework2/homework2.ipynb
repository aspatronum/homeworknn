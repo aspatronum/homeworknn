{
 "cells": [
  {
   "cell_type": "markdown",
   "metadata": {},
   "source": [
    "# CNN实现CIFAR-10图像分类\n",
    "\n"
   ]
  },
  {
   "cell_type": "markdown",
   "id": "f983acca",
   "metadata": {},
   "source": [
    "## 1.环境及依赖导入"
   ]
  },
  {
   "cell_type": "code",
   "execution_count": 1,
   "metadata": {},
   "outputs": [
    {
     "name": "stdout",
     "output_type": "stream",
     "text": [
      "Using device -> cuda\n"
     ]
    }
   ],
   "source": [
    "# 环境与依赖\n",
    "import os, tarfile, pickle\n",
    "from pathlib import Path\n",
    "import torch, torch.nn as nn, torch.optim as optim\n",
    "from torchvision import transforms, datasets, models\n",
    "from tqdm import tqdm\n",
    "import matplotlib.pyplot as plt\n",
    "\n",
    "DEVICE = torch.device(\"cuda\" if torch.cuda.is_available() else \"cpu\")\n",
    "print(\"Using device ->\", DEVICE)"
   ]
  },
  {
   "cell_type": "markdown",
   "id": "c323a548",
   "metadata": {},
   "source": [
    "## 2.数据集预处理"
   ]
  },
  {
   "cell_type": "code",
   "execution_count": 2,
   "metadata": {},
   "outputs": [
    {
     "name": "stdout",
     "output_type": "stream",
     "text": [
      "已检测到解压后的 CIFAR‑10 batch 文件\n",
      "Train size: 50000, Test size: 10000\n"
     ]
    }
   ],
   "source": [
    "# 数据准备\n",
    "DATA_DIR   = Path(\"./data\")                      # 统一的根目录\n",
    "RAW_DIR    = DATA_DIR / \"cifar-10-batches-py\"    # 解压后应出现的文件夹\n",
    "\n",
    "if RAW_DIR.exists():\n",
    "    print(\"已检测到解压后的 CIFAR‑10 batch 文件\")\n",
    "\n",
    "mean = (0.4914, 0.4822, 0.4465)\n",
    "std  = (0.2470, 0.2435, 0.2616)\n",
    "\n",
    "train_tf = transforms.Compose([\n",
    "    transforms.RandomCrop(32, padding=4),\n",
    "    transforms.RandomHorizontalFlip(),\n",
    "    transforms.Resize(224),\n",
    "    transforms.ToTensor(),\n",
    "    transforms.Normalize(mean, std),\n",
    "])\n",
    "\n",
    "test_tf = transforms.Compose([\n",
    "    transforms.Resize(224),\n",
    "    transforms.ToTensor(),\n",
    "    transforms.Normalize(mean, std),\n",
    "])\n",
    "\n",
    "BATCH_SIZE  = 128\n",
    "NUM_WORKERS = 4\n",
    "\n",
    "train_set = datasets.CIFAR10(root=str(DATA_DIR), train=True,\n",
    "                             transform=train_tf)\n",
    "test_set  = datasets.CIFAR10(root=str(DATA_DIR), train=False,\n",
    "                             transform=test_tf)\n",
    "\n",
    "train_loader = torch.utils.data.DataLoader(\n",
    "    train_set, batch_size=BATCH_SIZE, shuffle=True,\n",
    "    num_workers=NUM_WORKERS, pin_memory=True)\n",
    "test_loader  = torch.utils.data.DataLoader(\n",
    "    test_set, batch_size=BATCH_SIZE, shuffle=False,\n",
    "    num_workers=NUM_WORKERS, pin_memory=True)\n",
    "\n",
    "print(f\"Train size: {len(train_set)}, Test size: {len(test_set)}\")"
   ]
  },
  {
   "cell_type": "markdown",
   "id": "3ba4fd91",
   "metadata": {},
   "source": [
    "## 3.模型构建\n",
    "模型在AlexNet的基础上改进，通过添加BatchNorm层来提升模型表现。"
   ]
  },
  {
   "cell_type": "code",
   "execution_count": 3,
   "metadata": {},
   "outputs": [
    {
     "name": "stdout",
     "output_type": "stream",
     "text": [
      "Model params: 841.16 M\n"
     ]
    }
   ],
   "source": [
    "# 模型构建 (AlexNet‑BN)\n",
    "\n",
    "class AlexNetBN(nn.Module):\n",
    "    def __init__(self, num_classes=10):\n",
    "        super().__init__()\n",
    "        self.features = nn.Sequential(\n",
    "            nn.Conv2d(3, 64, 3, padding=1), nn.BatchNorm2d(64), nn.ReLU(inplace=True),\n",
    "            nn.MaxPool2d(2),\n",
    "            nn.Conv2d(64, 192, 3, padding=1), nn.BatchNorm2d(192), nn.ReLU(inplace=True),\n",
    "            nn.MaxPool2d(2),\n",
    "            nn.Conv2d(192, 384, 3, padding=1), nn.BatchNorm2d(384), nn.ReLU(inplace=True),\n",
    "            nn.Conv2d(384, 256, 3, padding=1), nn.BatchNorm2d(256), nn.ReLU(inplace=True),\n",
    "            nn.Conv2d(256, 256, 3, padding=1), nn.BatchNorm2d(256), nn.ReLU(inplace=True),\n",
    "            nn.MaxPool2d(2),\n",
    "        )\n",
    "        self.classifier = nn.Sequential(\n",
    "            nn.Dropout(),\n",
    "            nn.Linear(256*28*28, 4096), nn.ReLU(inplace=True),\n",
    "            nn.Dropout(),\n",
    "            nn.Linear(4096, 4096), nn.ReLU(inplace=True),\n",
    "            nn.Linear(4096, num_classes),\n",
    "        )\n",
    "    def forward(self, x):\n",
    "        x = self.features(x)\n",
    "        x = torch.flatten(x, 1)\n",
    "        return self.classifier(x)\n",
    "\n",
    "model = AlexNetBN().to(DEVICE)\n",
    "total_params = sum(p.numel() for p in model.parameters())/1e6\n",
    "print(f\"Model params: {total_params:.2f} M\")"
   ]
  },
  {
   "cell_type": "markdown",
   "id": "efaa9ecb",
   "metadata": {},
   "source": [
    "## 4.训练参数设置"
   ]
  },
  {
   "cell_type": "code",
   "execution_count": 10,
   "metadata": {},
   "outputs": [
    {
     "name": "stdout",
     "output_type": "stream",
     "text": [
      "训练参数设定：Epoch= 30 ,Learning Rate= 0.01\n"
     ]
    }
   ],
   "source": [
    "# 训练及验证配置\n",
    "EPOCHS = 30\n",
    "LR      = 0.01\n",
    "\n",
    "criterion = nn.CrossEntropyLoss()\n",
    "optimizer = optim.SGD(model.parameters(), lr=LR, momentum=0.9, weight_decay=5e-4)\n",
    "scheduler = optim.lr_scheduler.StepLR(optimizer, step_size=10, gamma=0.1)\n",
    "\n",
    "def evaluate(net, loader):\n",
    "    net.eval()\n",
    "    num_classes = 10\n",
    "    # 初始化混淆矩阵\n",
    "    confmat = torch.zeros((num_classes, num_classes), dtype=torch.int64, device=DEVICE)\n",
    "    with torch.no_grad():\n",
    "        for x, y in loader:\n",
    "            x, y = x.to(DEVICE), y.to(DEVICE)\n",
    "            pred = net(x).argmax(dim=1)\n",
    "            # 先计算一维 bincount，再 reshape\n",
    "            idxs = y * num_classes + pred\n",
    "            binc = torch.bincount(idxs, minlength=num_classes**2)\n",
    "            confmat += binc.view(num_classes, num_classes)\n",
    "    # 计算总体 Accuracy\n",
    "    correct = confmat.diag().sum().item()\n",
    "    total   = confmat.sum().item()\n",
    "    acc = correct / total\n",
    "    # 计算每类 Precision\n",
    "    precision = {}\n",
    "    for i in range(num_classes):\n",
    "        tp = confmat[i, i].item()\n",
    "        fp = confmat[:, i].sum().item() - tp\n",
    "        precision[i] = tp / (tp + fp) if (tp + fp) > 0 else 0.0\n",
    "    return acc, precision\n",
    "\n",
    "print(\"训练参数设定：Epoch=\",EPOCHS,\",Learning Rate=\",LR)"
   ]
  },
  {
   "cell_type": "markdown",
   "id": "9155760b",
   "metadata": {},
   "source": [
    "## 5.模型训练"
   ]
  },
  {
   "cell_type": "code",
   "execution_count": 11,
   "metadata": {},
   "outputs": [
    {
     "name": "stderr",
     "output_type": "stream",
     "text": [
      "                                                           \r"
     ]
    },
    {
     "name": "stdout",
     "output_type": "stream",
     "text": [
      "Epoch 01 | TrainLoss 1.4471 | TestAcc 52.65%\n"
     ]
    },
    {
     "name": "stderr",
     "output_type": "stream",
     "text": [
      "                                                           \r"
     ]
    },
    {
     "name": "stdout",
     "output_type": "stream",
     "text": [
      "Epoch 02 | TrainLoss 1.3113 | TestAcc 58.10%\n"
     ]
    },
    {
     "name": "stderr",
     "output_type": "stream",
     "text": [
      "                                                           \r"
     ]
    },
    {
     "name": "stdout",
     "output_type": "stream",
     "text": [
      "Epoch 03 | TrainLoss 1.2109 | TestAcc 60.66%\n"
     ]
    },
    {
     "name": "stderr",
     "output_type": "stream",
     "text": [
      "                                                           \r"
     ]
    },
    {
     "name": "stdout",
     "output_type": "stream",
     "text": [
      "Epoch 04 | TrainLoss 1.1185 | TestAcc 61.86%\n"
     ]
    },
    {
     "name": "stderr",
     "output_type": "stream",
     "text": [
      "                                                           \r"
     ]
    },
    {
     "name": "stdout",
     "output_type": "stream",
     "text": [
      "Epoch 05 | TrainLoss 1.0622 | TestAcc 67.94%\n"
     ]
    },
    {
     "name": "stderr",
     "output_type": "stream",
     "text": [
      "                                                           \r"
     ]
    },
    {
     "name": "stdout",
     "output_type": "stream",
     "text": [
      "Epoch 06 | TrainLoss 0.9906 | TestAcc 67.84%\n"
     ]
    },
    {
     "name": "stderr",
     "output_type": "stream",
     "text": [
      "                                                           \r"
     ]
    },
    {
     "name": "stdout",
     "output_type": "stream",
     "text": [
      "Epoch 07 | TrainLoss 0.9436 | TestAcc 70.87%\n"
     ]
    },
    {
     "name": "stderr",
     "output_type": "stream",
     "text": [
      "                                                           \r"
     ]
    },
    {
     "name": "stdout",
     "output_type": "stream",
     "text": [
      "Epoch 08 | TrainLoss 0.8953 | TestAcc 73.31%\n"
     ]
    },
    {
     "name": "stderr",
     "output_type": "stream",
     "text": [
      "                                                           \r"
     ]
    },
    {
     "name": "stdout",
     "output_type": "stream",
     "text": [
      "Epoch 09 | TrainLoss 0.8532 | TestAcc 73.48%\n"
     ]
    },
    {
     "name": "stderr",
     "output_type": "stream",
     "text": [
      "                                                           \r"
     ]
    },
    {
     "name": "stdout",
     "output_type": "stream",
     "text": [
      "Epoch 10 | TrainLoss 0.8152 | TestAcc 74.59%\n"
     ]
    },
    {
     "name": "stderr",
     "output_type": "stream",
     "text": [
      "                                                           \r"
     ]
    },
    {
     "name": "stdout",
     "output_type": "stream",
     "text": [
      "Epoch 11 | TrainLoss 0.7010 | TestAcc 79.08%\n"
     ]
    },
    {
     "name": "stderr",
     "output_type": "stream",
     "text": [
      "                                                           \r"
     ]
    },
    {
     "name": "stdout",
     "output_type": "stream",
     "text": [
      "Epoch 12 | TrainLoss 0.6720 | TestAcc 79.53%\n"
     ]
    },
    {
     "name": "stderr",
     "output_type": "stream",
     "text": [
      "                                                           \r"
     ]
    },
    {
     "name": "stdout",
     "output_type": "stream",
     "text": [
      "Epoch 13 | TrainLoss 0.6564 | TestAcc 79.94%\n"
     ]
    },
    {
     "name": "stderr",
     "output_type": "stream",
     "text": [
      "                                                           \r"
     ]
    },
    {
     "name": "stdout",
     "output_type": "stream",
     "text": [
      "Epoch 14 | TrainLoss 0.6478 | TestAcc 79.88%\n"
     ]
    },
    {
     "name": "stderr",
     "output_type": "stream",
     "text": [
      "                                                           \r"
     ]
    },
    {
     "name": "stdout",
     "output_type": "stream",
     "text": [
      "Epoch 15 | TrainLoss 0.6357 | TestAcc 80.20%\n"
     ]
    },
    {
     "name": "stderr",
     "output_type": "stream",
     "text": [
      "                                                           \r"
     ]
    },
    {
     "name": "stdout",
     "output_type": "stream",
     "text": [
      "Epoch 16 | TrainLoss 0.6257 | TestAcc 80.81%\n"
     ]
    },
    {
     "name": "stderr",
     "output_type": "stream",
     "text": [
      "                                                           \r"
     ]
    },
    {
     "name": "stdout",
     "output_type": "stream",
     "text": [
      "Epoch 17 | TrainLoss 0.6220 | TestAcc 80.70%\n"
     ]
    },
    {
     "name": "stderr",
     "output_type": "stream",
     "text": [
      "                                                           \r"
     ]
    },
    {
     "name": "stdout",
     "output_type": "stream",
     "text": [
      "Epoch 18 | TrainLoss 0.6091 | TestAcc 80.84%\n"
     ]
    },
    {
     "name": "stderr",
     "output_type": "stream",
     "text": [
      "                                                           \r"
     ]
    },
    {
     "name": "stdout",
     "output_type": "stream",
     "text": [
      "Epoch 19 | TrainLoss 0.6071 | TestAcc 80.89%\n"
     ]
    },
    {
     "name": "stderr",
     "output_type": "stream",
     "text": [
      "                                                           \r"
     ]
    },
    {
     "name": "stdout",
     "output_type": "stream",
     "text": [
      "Epoch 20 | TrainLoss 0.5990 | TestAcc 81.10%\n"
     ]
    },
    {
     "name": "stderr",
     "output_type": "stream",
     "text": [
      "                                                           \r"
     ]
    },
    {
     "name": "stdout",
     "output_type": "stream",
     "text": [
      "Epoch 21 | TrainLoss 0.5840 | TestAcc 81.40%\n"
     ]
    },
    {
     "name": "stderr",
     "output_type": "stream",
     "text": [
      "                                                           \r"
     ]
    },
    {
     "name": "stdout",
     "output_type": "stream",
     "text": [
      "Epoch 22 | TrainLoss 0.5771 | TestAcc 81.43%\n"
     ]
    },
    {
     "name": "stderr",
     "output_type": "stream",
     "text": [
      "                                                           \r"
     ]
    },
    {
     "name": "stdout",
     "output_type": "stream",
     "text": [
      "Epoch 23 | TrainLoss 0.5787 | TestAcc 81.40%\n"
     ]
    },
    {
     "name": "stderr",
     "output_type": "stream",
     "text": [
      "                                                           \r"
     ]
    },
    {
     "name": "stdout",
     "output_type": "stream",
     "text": [
      "Epoch 24 | TrainLoss 0.5752 | TestAcc 81.56%\n"
     ]
    },
    {
     "name": "stderr",
     "output_type": "stream",
     "text": [
      "                                                           \r"
     ]
    },
    {
     "name": "stdout",
     "output_type": "stream",
     "text": [
      "Epoch 25 | TrainLoss 0.5748 | TestAcc 81.84%\n"
     ]
    },
    {
     "name": "stderr",
     "output_type": "stream",
     "text": [
      "                                                           \r"
     ]
    },
    {
     "name": "stdout",
     "output_type": "stream",
     "text": [
      "Epoch 26 | TrainLoss 0.5724 | TestAcc 81.64%\n"
     ]
    },
    {
     "name": "stderr",
     "output_type": "stream",
     "text": [
      "                                                           \r"
     ]
    },
    {
     "name": "stdout",
     "output_type": "stream",
     "text": [
      "Epoch 27 | TrainLoss 0.5691 | TestAcc 81.62%\n"
     ]
    },
    {
     "name": "stderr",
     "output_type": "stream",
     "text": [
      "                                                           \r"
     ]
    },
    {
     "name": "stdout",
     "output_type": "stream",
     "text": [
      "Epoch 28 | TrainLoss 0.5679 | TestAcc 81.70%\n"
     ]
    },
    {
     "name": "stderr",
     "output_type": "stream",
     "text": [
      "                                                           \r"
     ]
    },
    {
     "name": "stdout",
     "output_type": "stream",
     "text": [
      "Epoch 29 | TrainLoss 0.5676 | TestAcc 81.61%\n"
     ]
    },
    {
     "name": "stderr",
     "output_type": "stream",
     "text": [
      "                                                           \r"
     ]
    },
    {
     "name": "stdout",
     "output_type": "stream",
     "text": [
      "Epoch 30 | TrainLoss 0.5648 | TestAcc 81.82%\n",
      "Best TestAcc = 81.84%\n"
     ]
    }
   ],
   "source": [
    "# 主训练循环\n",
    "acc_list, precision_hist, best_acc = [], [], 0.0\n",
    "\n",
    "for epoch in range(1, EPOCHS+1):\n",
    "    model.train(); running_loss = 0.0\n",
    "    for imgs, labels in tqdm(train_loader, desc=f\"Epoch {epoch:02d}\", leave=False):\n",
    "        imgs, labels = imgs.to(DEVICE), labels.to(DEVICE)\n",
    "        optimizer.zero_grad()\n",
    "        loss = criterion(model(imgs), labels)\n",
    "        loss.backward(); optimizer.step()\n",
    "        running_loss += loss.item() * imgs.size(0)\n",
    "    scheduler.step()\n",
    "    train_loss = running_loss / len(train_set)\n",
    "    acc, prec = evaluate(model, test_loader)\n",
    "    acc_list.append(acc); precision_hist.append(prec)\n",
    "    if acc > best_acc:\n",
    "        best_acc = acc\n",
    "        torch.save(model.state_dict(), \"best_cifar_alexnet.pth\")\n",
    "    print(f\"Epoch {epoch:02d} | TrainLoss {train_loss:.4f} | TestAcc {acc*100:.2f}%\")\n",
    "\n",
    "print(f\"Best TestAcc = {best_acc*100:.2f}%\")"
   ]
  },
  {
   "cell_type": "markdown",
   "id": "84aeacf2",
   "metadata": {},
   "source": [
    "## 6.评价指标及可视化"
   ]
  },
  {
   "cell_type": "code",
   "execution_count": 12,
   "metadata": {},
   "outputs": [
    {
     "name": "stdout",
     "output_type": "stream",
     "text": [
      "Metrics saved to metrics.pkl\n"
     ]
    }
   ],
   "source": [
    "# 保存评价指标\n",
    "with open(\"metrics.pkl\", \"wb\") as f:\n",
    "    pickle.dump({\"acc_list\": acc_list, \"precision_hist\": precision_hist}, f)\n",
    "print(\"Metrics saved to metrics.pkl\")"
   ]
  },
  {
   "cell_type": "code",
   "execution_count": 13,
   "metadata": {},
   "outputs": [
    {
     "data": {
      "image/png": "[encoded data removed]",
      "text/plain": [
       "<Figure size 640x480 with 1 Axes>"
      ]
     },
     "metadata": {},
     "output_type": "display_data"
    },
    {
     "data": {
      "image/png": "[encoded data removed]",
      "text/plain": [
       "<Figure size 640x480 with 1 Axes>"
      ]
     },
     "metadata": {},
     "output_type": "display_data"
    }
   ],
   "source": [
    "# 作图\n",
    "epochs = range(1, len(acc_list)+1)\n",
    "\n",
    "plt.figure(); plt.plot(epochs, acc_list, marker='o')\n",
    "plt.xlabel(\"Epoch\"); plt.ylabel(\"Accuracy\"); plt.title(\"Test Accuracy over Epochs\")\n",
    "plt.grid(True)\n",
    "\n",
    "final_prec = precision_hist[-1]\n",
    "classes = list(final_prec.keys()); prec_vals = [final_prec[c] for c in classes]\n",
    "plt.figure(); plt.bar(classes, prec_vals)\n",
    "plt.xticks(classes); plt.xlabel(\"Class\"); plt.ylabel(\"Precision\")\n",
    "plt.title(\"Per‑class Precision (final epoch)\"); plt.ylim(0,1); plt.grid(axis='y')\n",
    "plt.show()"
   ]
  }
 ],
 "metadata": {
  "kernelspec": {
   "display_name": "PyTorch",
   "language": "python",
   "name": "python3"
  },
  "language_info": {
   "codemirror_mode": {
    "name": "ipython",
    "version": 3
   },
   "file_extension": ".py",
   "mimetype": "text/x-python",
   "name": "python",
   "nbconvert_exporter": "python",
   "pygments_lexer": "ipython3",
   "version": "3.12.9"
  }
 },
 "nbformat": 4,
 "nbformat_minor": 5
}
